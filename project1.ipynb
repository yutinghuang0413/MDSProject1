{
  "nbformat": 4,
  "nbformat_minor": 0,
  "metadata": {
    "colab": {
      "provenance": []
    },
    "kernelspec": {
      "name": "python3",
      "display_name": "Python 3"
    },
    "language_info": {
      "name": "python"
    }
  },
  "cells": [
    {
      "cell_type": "markdown",
      "source": [
        "Math 5750/6880: Mathematics of Data Science \\\\\n",
        "Project 1"
      ],
      "metadata": {
        "id": "9fm9P3VE85Y3"
      }
    },
    {
      "cell_type": "markdown",
      "source": [
        "# 3. Python and Google Colab\n",
        "Project Euler Problem  \n",
        "https://projecteuler.net/"
      ],
      "metadata": {
        "id": "voDhElnJXDro"
      }
    },
    {
      "cell_type": "code",
      "source": [
        "# your code here"
      ],
      "metadata": {
        "id": "y_e6lM_NEwwD"
      },
      "execution_count": null,
      "outputs": []
    },
    {
      "cell_type": "markdown",
      "source": [
        "# 4. Regression Analysis\n",
        "California housing data  \n",
        "https://scikit-learn.org/stable/datasets/real_world.html#california-housing-dataset\n"
      ],
      "metadata": {
        "id": "riLtqhJEXNOQ"
      }
    },
    {
      "cell_type": "code",
      "source": [
        "import numpy as np\n",
        "import matplotlib.pyplot as plt\n",
        "import pandas as pd\n",
        "from sklearn.datasets import fetch_california_housing\n",
        "from sklearn.model_selection import train_test_split"
      ],
      "metadata": {
        "id": "5gtRmgu1kL6x"
      },
      "execution_count": 2,
      "outputs": []
    },
    {
      "cell_type": "code",
      "source": [
        "# Load the California housing data\n",
        "cal = fetch_california_housing(as_frame=True)\n",
        "X, y = cal.data, cal.target\n",
        "feature_names = X.columns\n",
        "print(feature_names)\n",
        "\n",
        "\n",
        "# Train/test split\n",
        "X_train, X_test, y_train, y_test = train_test_split(X, y, test_size=0.20, random_state=0)\n",
        "print(\"Shape of training data:\", X_train.shape)\n",
        "print(\"Shape of testing data:\", X_test.shape)"
      ],
      "metadata": {
        "id": "YdjNvnAGkRpe",
        "colab": {
          "base_uri": "https://localhost:8080/"
        },
        "outputId": "6a7c281f-4c37-49dd-de3d-8114bd0327ba"
      },
      "execution_count": 3,
      "outputs": [
        {
          "output_type": "stream",
          "name": "stdout",
          "text": [
            "Index(['MedInc', 'HouseAge', 'AveRooms', 'AveBedrms', 'Population', 'AveOccup',\n",
            "       'Latitude', 'Longitude'],\n",
            "      dtype='object')\n",
            "Shape of training data: (16512, 8)\n",
            "Shape of testing data: (4128, 8)\n"
          ]
        }
      ]
    },
    {
      "cell_type": "code",
      "source": [
        "df = X.copy()\n",
        "df[\"median house value\"] = y\n",
        "stats_df = pd.DataFrame({\n",
        "    'Max': df.max(),\n",
        "    'Min': df.min(),\n",
        "    'Mean': df.mean(),\n",
        "    'Median': df.median(),\n",
        "    'Std': df.std()\n",
        "})\n",
        "\n",
        "print(stats_df)\n"
      ],
      "metadata": {
        "id": "Ha1on4LiqvX8",
        "outputId": "50385e4e-513b-4914-9e8d-882f15ed1707",
        "colab": {
          "base_uri": "https://localhost:8080/"
        }
      },
      "execution_count": 6,
      "outputs": [
        {
          "output_type": "stream",
          "name": "stdout",
          "text": [
            "                             Max         Min         Mean       Median  \\\n",
            "MedInc                 15.000100    0.499900     3.870671     3.534800   \n",
            "HouseAge               52.000000    1.000000    28.639486    29.000000   \n",
            "AveRooms              141.909091    0.846154     5.429000     5.229129   \n",
            "AveBedrms              34.066667    0.333333     1.096675     1.048780   \n",
            "Population          35682.000000    3.000000  1425.476744  1166.000000   \n",
            "AveOccup             1243.333333    0.692308     3.070655     2.818116   \n",
            "Latitude               41.950000   32.540000    35.631861    34.260000   \n",
            "Longitude            -114.310000 -124.350000  -119.569704  -118.490000   \n",
            "median house value      5.000010    0.149990     2.068558     1.797000   \n",
            "\n",
            "                            Std  \n",
            "MedInc                 1.899822  \n",
            "HouseAge              12.585558  \n",
            "AveRooms               2.474173  \n",
            "AveBedrms              0.473911  \n",
            "Population          1132.462122  \n",
            "AveOccup              10.386050  \n",
            "Latitude               2.135952  \n",
            "Longitude              2.003532  \n",
            "median house value     1.153956  \n"
          ]
        }
      ]
    },
    {
      "cell_type": "code",
      "source": [
        "from sklearn.linear_model import LinearRegression\n",
        "from sklearn.metrics import r2_score, mean_absolute_error, mean_squared_error\n",
        "\n",
        "model_lin = LinearRegression()\n",
        "model_lin.fit(X_train, y_train)\n",
        "print(\"Intercept:\", model_lin.intercept_)\n",
        "print(\"Coefficients:\", model_lin.coef_)\n",
        "y_pred_lin = model_lin.predict(X_test)\n",
        "y_train_lin = model_lin.predict(X_train)\n",
        "\n",
        "r2_lin_in = r2_score(y_train, y_train_lin)\n",
        "mae_lin_in = mean_absolute_error(y_train, y_train_lin)\n",
        "rmse_lin_in = np.sqrt(mean_squared_error(y_train, y_train_lin))\n",
        "\n",
        "print(\"Training errors:\")\n",
        "print(f\"R^2: {r2_lin_in:.4f}\")\n",
        "print(f\"MAE: {mae_lin_in:.4f}\")\n",
        "print(f\"RMSE: {rmse_lin_in:.4f}\")\n",
        "\n",
        "\n",
        "r2_lin_out = r2_score(y_test, y_pred_lin)\n",
        "mae_lin_out = mean_absolute_error(y_test, y_pred_lin)\n",
        "rmse_lin_out = np.sqrt(mean_squared_error(y_test, y_pred_lin))\n",
        "\n",
        "print(\"Testing errors:\")\n",
        "print(f\"R^2: {r2_lin_out:.4f}\")\n",
        "print(f\"MAE: {mae_lin_out:.4f}\")\n",
        "print(f\"RMSE: {rmse_lin_out:.4f}\")\n",
        "\n"
      ],
      "metadata": {
        "id": "PEYTEFsSXMk2",
        "outputId": "3f91b07c-a901-444c-f6c6-e39f1f16bc78",
        "colab": {
          "base_uri": "https://localhost:8080/"
        }
      },
      "execution_count": 12,
      "outputs": [
        {
          "output_type": "stream",
          "name": "stdout",
          "text": [
            "Intercept: -36.85856910680128\n",
            "Coefficients: [ 4.33333407e-01  9.29324337e-03 -9.86433739e-02  5.93215487e-01\n",
            " -7.56192502e-06 -4.74516383e-03 -4.21449336e-01 -4.34166041e-01]\n",
            "Testing errors:\n",
            "R^2: 0.6089\n",
            "MAE: 0.5309\n",
            "RMSE: 0.7235\n",
            "Testing errors:\n",
            "R^2: 0.5943\n",
            "MAE: 0.5351\n",
            "RMSE: 0.7273\n"
          ]
        }
      ]
    },
    {
      "cell_type": "markdown",
      "source": [
        "# 5. Classification Analysis\n",
        "Diagnostic Wisconsin Breast Cancer Database  \n",
        "https://scikit-learn.org/stable/datasets/toy_dataset.html#breast-cancer-dataset"
      ],
      "metadata": {
        "id": "QkSVMB7HXSZB"
      }
    },
    {
      "cell_type": "code",
      "source": [
        "import numpy as np\n",
        "import pandas as pd\n",
        "import matplotlib.pyplot as plt\n",
        "from sklearn.datasets import load_breast_cancer\n",
        "from sklearn.model_selection import train_test_split\n",
        "from sklearn.preprocessing import StandardScaler"
      ],
      "metadata": {
        "id": "vUfQhEk7zQBX"
      },
      "execution_count": null,
      "outputs": []
    },
    {
      "cell_type": "code",
      "source": [
        "# Load Breast Cancer Wisconsin Dataset\n",
        "data = load_breast_cancer(as_frame=True)\n",
        "X = data.data\n",
        "y = data.target                  # 0 = malignant, 1 = benign\n",
        "feature_names = X.columns\n",
        "label_names = {0: \"malignant\", 1: \"benign\"}\n",
        "print(feature_names)\n",
        "\n",
        "# Train/Test Split (stratified to preserve class balance)\n",
        "X_train, X_test, y_train, y_test = train_test_split(X, y, test_size=0.20, random_state=0, stratify=y)\n",
        "\n",
        "# Preprocess Data (fit on train ONLY; then transform both)\n",
        "scaler = StandardScaler(with_mean=True, with_std=True)\n",
        "X_train_std = scaler.fit_transform(X_train)   # fit on train\n",
        "X_test_std  = scaler.transform(X_test)        # transform test with train stats"
      ],
      "metadata": {
        "colab": {
          "base_uri": "https://localhost:8080/"
        },
        "id": "IGeihULRzZxD",
        "outputId": "b7cff0d4-9149-4208-c92c-6fedb809d25b"
      },
      "execution_count": null,
      "outputs": [
        {
          "output_type": "stream",
          "name": "stdout",
          "text": [
            "Index(['mean radius', 'mean texture', 'mean perimeter', 'mean area',\n",
            "       'mean smoothness', 'mean compactness', 'mean concavity',\n",
            "       'mean concave points', 'mean symmetry', 'mean fractal dimension',\n",
            "       'radius error', 'texture error', 'perimeter error', 'area error',\n",
            "       'smoothness error', 'compactness error', 'concavity error',\n",
            "       'concave points error', 'symmetry error', 'fractal dimension error',\n",
            "       'worst radius', 'worst texture', 'worst perimeter', 'worst area',\n",
            "       'worst smoothness', 'worst compactness', 'worst concavity',\n",
            "       'worst concave points', 'worst symmetry', 'worst fractal dimension'],\n",
            "      dtype='object')\n"
          ]
        }
      ]
    },
    {
      "cell_type": "code",
      "source": [
        "# your code here"
      ],
      "metadata": {
        "id": "QUYeDq2ZXY2x"
      },
      "execution_count": null,
      "outputs": []
    }
  ]
}